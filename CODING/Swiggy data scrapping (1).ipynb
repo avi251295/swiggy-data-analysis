{
 "cells": [
  {
   "cell_type": "code",
   "execution_count": 37,
   "id": "e79331e6",
   "metadata": {},
   "outputs": [],
   "source": [
    "from selenium import webdriver\n",
    "from selenium.webdriver.common.by import By\n",
    "from selenium.webdriver.support.ui import WebDriverWait\n",
    "from selenium.webdriver.support import expected_conditions as EC\n",
    "from selenium.webdriver.common.keys import Keys\n",
    "from time import sleep"
   ]
  },
  {
   "cell_type": "code",
   "execution_count": 38,
   "id": "5b140a3c",
   "metadata": {},
   "outputs": [],
   "source": [
    "url = \"https://www.swiggy.com/\""
   ]
  },
  {
   "cell_type": "code",
   "execution_count": 19,
   "id": "f17b813d",
   "metadata": {},
   "outputs": [
    {
     "data": {
      "text/plain": [
       "<selenium.webdriver.chrome.webdriver.WebDriver (session=\"1511aaf23ab3d60937d4039421b4966a\")>"
      ]
     },
     "execution_count": 19,
     "metadata": {},
     "output_type": "execute_result"
    }
   ],
   "source": [
    "driver = webdriver.Chrome()\n",
    "driver"
   ]
  },
  {
   "cell_type": "code",
   "execution_count": 20,
   "id": "490ce884",
   "metadata": {},
   "outputs": [],
   "source": [
    "driver.get(url)"
   ]
  },
  {
   "cell_type": "code",
   "execution_count": 46,
   "id": "2d9f43d8",
   "metadata": {},
   "outputs": [],
   "source": [
    "wait = WebDriverWait(driver, 60)"
   ]
  },
  {
   "cell_type": "code",
   "execution_count": 41,
   "id": "0d1221a0",
   "metadata": {},
   "outputs": [],
   "source": [
    "element = wait.until(EC.presence_of_all_elements_located((By.CLASS_NAME, '_3XX_A')))"
   ]
  },
  {
   "cell_type": "code",
   "execution_count": 42,
   "id": "175e2499",
   "metadata": {},
   "outputs": [
    {
     "data": {
      "text/plain": [
       "[<selenium.webdriver.remote.webelement.WebElement (session=\"1511aaf23ab3d60937d4039421b4966a\", element=\"c1233ae7-c0d5-4661-953e-5ec1516fe1bd\")>,\n",
       " <selenium.webdriver.remote.webelement.WebElement (session=\"1511aaf23ab3d60937d4039421b4966a\", element=\"07df53aa-41a0-4ede-a357-214ea8a9c17a\")>,\n",
       " <selenium.webdriver.remote.webelement.WebElement (session=\"1511aaf23ab3d60937d4039421b4966a\", element=\"af42b04d-3934-4b0d-898d-ab40b308a7bd\")>,\n",
       " <selenium.webdriver.remote.webelement.WebElement (session=\"1511aaf23ab3d60937d4039421b4966a\", element=\"eff96cc8-6474-49df-9708-09fbd8673ca5\")>,\n",
       " <selenium.webdriver.remote.webelement.WebElement (session=\"1511aaf23ab3d60937d4039421b4966a\", element=\"240f0553-3ecc-4f8a-af0e-0e582dc342e0\")>,\n",
       " <selenium.webdriver.remote.webelement.WebElement (session=\"1511aaf23ab3d60937d4039421b4966a\", element=\"002f8eaa-e327-4aef-8359-53185ca992d2\")>,\n",
       " <selenium.webdriver.remote.webelement.WebElement (session=\"1511aaf23ab3d60937d4039421b4966a\", element=\"d3b16247-df26-4b44-81eb-4462fcd2906e\")>,\n",
       " <selenium.webdriver.remote.webelement.WebElement (session=\"1511aaf23ab3d60937d4039421b4966a\", element=\"5538f614-9c78-4801-8225-c933ce25274b\")>,\n",
       " <selenium.webdriver.remote.webelement.WebElement (session=\"1511aaf23ab3d60937d4039421b4966a\", element=\"6b8fadab-8ba6-4737-894d-5cf9a918bc6a\")>,\n",
       " <selenium.webdriver.remote.webelement.WebElement (session=\"1511aaf23ab3d60937d4039421b4966a\", element=\"6a44bdae-c3ec-47b7-9343-0a1898431ee4\")>,\n",
       " <selenium.webdriver.remote.webelement.WebElement (session=\"1511aaf23ab3d60937d4039421b4966a\", element=\"73b39190-3782-4e55-8e54-8736072cd93a\")>,\n",
       " <selenium.webdriver.remote.webelement.WebElement (session=\"1511aaf23ab3d60937d4039421b4966a\", element=\"7f7ebeda-cd98-40ef-b7d1-126797dd2534\")>,\n",
       " <selenium.webdriver.remote.webelement.WebElement (session=\"1511aaf23ab3d60937d4039421b4966a\", element=\"1f27638f-bca5-4cbe-8b48-c8c3418238a1\")>,\n",
       " <selenium.webdriver.remote.webelement.WebElement (session=\"1511aaf23ab3d60937d4039421b4966a\", element=\"32313703-c244-485f-8fd6-9a98c499ecc5\")>,\n",
       " <selenium.webdriver.remote.webelement.WebElement (session=\"1511aaf23ab3d60937d4039421b4966a\", element=\"ee6c8afc-97a6-4f27-aa44-a59138639500\")>,\n",
       " <selenium.webdriver.remote.webelement.WebElement (session=\"1511aaf23ab3d60937d4039421b4966a\", element=\"1889d77e-f93c-4e34-adb7-4130caf4395a\")>,\n",
       " <selenium.webdriver.remote.webelement.WebElement (session=\"1511aaf23ab3d60937d4039421b4966a\", element=\"645b3e30-ebea-4543-8ff5-c9d73b3d011e\")>,\n",
       " <selenium.webdriver.remote.webelement.WebElement (session=\"1511aaf23ab3d60937d4039421b4966a\", element=\"f58557d7-34ef-44e9-bd9b-7d977e630420\")>,\n",
       " <selenium.webdriver.remote.webelement.WebElement (session=\"1511aaf23ab3d60937d4039421b4966a\", element=\"09d7bee1-eab9-4cb6-9e79-613c8bb98930\")>,\n",
       " <selenium.webdriver.remote.webelement.WebElement (session=\"1511aaf23ab3d60937d4039421b4966a\", element=\"329cc23c-1f9b-4758-baa0-63169214b67a\")>]"
      ]
     },
     "execution_count": 42,
     "metadata": {},
     "output_type": "execute_result"
    }
   ],
   "source": [
    "element"
   ]
  },
  {
   "cell_type": "code",
   "execution_count": 43,
   "id": "e714930b",
   "metadata": {},
   "outputs": [],
   "source": [
    "elements = driver.find_elements(By.CLASS_NAME, 'nA6kb')"
   ]
  },
  {
   "cell_type": "code",
   "execution_count": 25,
   "id": "4c90857e",
   "metadata": {},
   "outputs": [],
   "source": [
    "import pandas as pd"
   ]
  },
  {
   "cell_type": "code",
   "execution_count": 26,
   "id": "c23a65db",
   "metadata": {},
   "outputs": [
    {
     "name": "stdout",
     "output_type": "stream",
     "text": [
      "KFC\n",
      "Chaitanya Paranthas\n",
      "Kok Pa Chinese\n",
      "Burgerino\n",
      "McDonald's\n",
      "Panchali Restaurant\n",
      "Chinese Wok\n",
      "Rajendra Paav Bhaji\n",
      "Sujata Mastani\n",
      "Taco Bell\n",
      "PK Biryani House (Kothrud)\n",
      "Hindavi Swarajya Special Tupatil Sabudane Wade\n",
      "Haldiram's Restaurant\n",
      "Modern Cafe\n",
      "Cafe Food & Fit\n"
     ]
    }
   ],
   "source": [
    "for elem in elements:\n",
    "    print(elem.text)"
   ]
  },
  {
   "cell_type": "code",
   "execution_count": 27,
   "id": "7fccb2eb",
   "metadata": {},
   "outputs": [],
   "source": [
    "links = driver.find_elements(By.CLASS_NAME, '_1j_Yo')"
   ]
  },
  {
   "cell_type": "code",
   "execution_count": 28,
   "id": "89145165",
   "metadata": {},
   "outputs": [],
   "source": [
    "link = wait.until(EC.visibility_of_element_located((By.TAG_NAME, \"a\")))"
   ]
  },
  {
   "cell_type": "code",
   "execution_count": 29,
   "id": "bfd71dca",
   "metadata": {},
   "outputs": [],
   "source": [
    "links = driver.find_elements(By.CLASS_NAME, '_1j_Yo')"
   ]
  },
  {
   "cell_type": "code",
   "execution_count": 30,
   "id": "af9d9c1a",
   "metadata": {},
   "outputs": [
    {
     "name": "stdout",
     "output_type": "stream",
     "text": [
      "PROMOTED\n",
      "KFC\n",
      "Burgers, Biryani, American, Snacks, Fast Food\n",
      "4.1\n",
      "•\n",
      "31 MINS\n",
      "•\n",
      "₹400 FOR TWO\n",
      "20% off | Use SWIGGYIT\n",
      "Chaitanya Paranthas\n",
      "North Indian, Punjabi, Chinese, Thalis, Beverages, Desserts\n",
      "4.1\n",
      "•\n",
      "29 MINS\n",
      "•\n",
      "₹250 FOR TWO\n",
      "40% off | Use TRYNEW\n",
      "Kok Pa Chinese\n",
      "Chinese, Asian\n",
      "4.0\n",
      "•\n",
      "34 MINS\n",
      "•\n",
      "₹250 FOR TWO\n",
      "PROMOTED\n",
      "Burgerino\n",
      "Burgers\n",
      "--\n",
      "•\n",
      "35 MINS\n",
      "•\n",
      "₹150 FOR TWO\n",
      "FLAT150 off | Use FLATDEAL\n",
      "McDonald's\n",
      "Burgers, Beverages, Cafe, Desserts\n",
      "4.3\n",
      "•\n",
      "30 MINS\n",
      "•\n",
      "₹400 FOR TWO\n",
      "10% off | Use PARTY\n",
      "Panchali Restaurant\n",
      "North Indian\n",
      "4.1\n",
      "•\n",
      "24 MINS\n",
      "•\n",
      "₹500 FOR TWO\n",
      "FLAT100 off | Use FLATDEAL\n",
      "PROMOTED\n",
      "Chinese Wok\n",
      "Chinese, Asian, Tibetan, Desserts\n",
      "4.0\n",
      "•\n",
      "27 MINS\n",
      "•\n",
      "₹300 FOR TWO\n",
      "60% off | Use TRYNEW\n",
      "Rajendra Paav Bhaji\n",
      "Street Food, Desserts\n",
      "4.1\n",
      "•\n",
      "22 MINS\n",
      "•\n",
      "₹350 FOR TWO\n",
      "10% off | Use TRYNEW\n",
      "Sujata Mastani\n",
      "Desserts\n",
      "4.3\n",
      "•\n",
      "26 MINS\n",
      "•\n",
      "₹200 FOR TWO\n",
      "PROMOTED\n",
      "Taco Bell\n",
      "Mexican\n",
      "3.6\n",
      "•\n",
      "35 MINS\n",
      "•\n",
      "₹300 FOR TWO\n",
      "50% off | Use TRYNEW\n",
      "PROMOTED\n",
      "PK Biryani House (Kothrud)\n",
      "Biryani, Maharashtrian, Seafood, North Indian\n",
      "4.1\n",
      "•\n",
      "35 MINS\n",
      "•\n",
      "₹400 FOR TWO\n",
      "Free Solkadi on orders above ₹539\n",
      "Hindavi Swarajya Special Tupatil Sabudane Wade\n",
      "Snacks, Maharashtrian, Fast Food\n",
      "4.4\n",
      "•\n",
      "19 MINS\n",
      "•\n",
      "₹100 FOR TWO\n",
      "Haldiram's Restaurant\n",
      "North Indian, South Indian, Sweets, Desserts, Chaat\n",
      "4.3\n",
      "•\n",
      "27 MINS\n",
      "•\n",
      "₹300 FOR TWO\n",
      "50% off | Use TRYNEW\n",
      "Modern Cafe\n",
      "South Indian, North Indian\n",
      "4.0\n",
      "•\n",
      "28 MINS\n",
      "•\n",
      "₹300 FOR TWO\n",
      "PROMOTED\n",
      "Cafe Food & Fit\n",
      "Healthy Food\n",
      "4.3\n",
      "•\n",
      "32 MINS\n",
      "•\n",
      "₹200 FOR TWO\n",
      "20% off | Use PARTY\n",
      "\n",
      "\n",
      "\n",
      "\n",
      "\n"
     ]
    }
   ],
   "source": [
    "for link in links:\n",
    "    lnk = link.text\n",
    "    print(lnk)"
   ]
  },
  {
   "cell_type": "code",
   "execution_count": 44,
   "id": "01171cc8",
   "metadata": {},
   "outputs": [
    {
     "name": "stdout",
     "output_type": "stream",
     "text": [
      "4.1\n"
     ]
    }
   ],
   "source": [
    "rating_elements = driver.find_elements(By.XPATH, '//*[@id=\"all_restaurants\"]/div/div[2]/div[1]/div/div[1]/div[1]/a/div/div[1]/div[4]/div[1]/span[2]')\n",
    "for rating_element in rating_elements:\n",
    "    print(rating_element.text)\n",
    "    "
   ]
  },
  {
   "cell_type": "code",
   "execution_count": 32,
   "id": "f6145494",
   "metadata": {},
   "outputs": [],
   "source": [
    "# restaurants = driver.find_elements(By.CLASS_NAME, 'nA6kb')\n",
    "# while True:\n",
    "#     # scroll down to the bottom of the page\n",
    "#     driver.execute_script(\"window.scrollTo(0, document.body.scrollHeight);\")\n",
    "#     # wait for new restaurants to load\n",
    "#     sleep(5)\n",
    "#     # get all the restaurants on the page\n",
    "#     new_restaurants = driver.find_elements(By.CLASS_NAME, 'nA6kb')\n",
    "#     # if no new restaurants loaded, break out of loop\n",
    "#     if len(new_restaurants) == len(restaurants):\n",
    "#         break\n",
    "#     else:\n",
    "#         restaurants = new_restaurants\n",
    "# #         print(f\"Number of restaurants loaded: {len(restaurants)}\")\n",
    "\n",
    "# # print the names of all the restaurants\n",
    "# for restaurant in restaurants:\n",
    "#     print(restaurant.text)"
   ]
  },
  {
   "cell_type": "code",
   "execution_count": null,
   "id": "45d3cfe8",
   "metadata": {},
   "outputs": [],
   "source": [
    "for i in range(100):\n",
    "    driver.execute_script(\"window.scrollTo(0, document.body.scrollHeight);\")\n",
    "    sleep(1)\n",
    "elements = driver.find_elements(By.CLASS_NAME, 'nA6kb')"
   ]
  },
  {
   "cell_type": "code",
   "execution_count": 35,
   "id": "cfa0d17f",
   "metadata": {},
   "outputs": [
    {
     "name": "stdout",
     "output_type": "stream",
     "text": [
      "KFC\n",
      "Chaitanya Paranthas\n",
      "Kok Pa Chinese\n",
      "Burgerino\n",
      "McDonald's\n",
      "Panchali Restaurant\n",
      "Chinese Wok\n",
      "Rajendra Paav Bhaji\n",
      "Sujata Mastani\n",
      "Taco Bell\n",
      "PK Biryani House (Kothrud)\n",
      "Hindavi Swarajya Special Tupatil Sabudane Wade\n",
      "Haldiram's Restaurant\n",
      "Modern Cafe\n",
      "Cafe Food & Fit\n"
     ]
    }
   ],
   "source": [
    "for elem in elements:\n",
    "    print(elem.text)"
   ]
  },
  {
   "cell_type": "code",
   "execution_count": 50,
   "id": "14145a52",
   "metadata": {},
   "outputs": [],
   "source": [
    "from selenium.webdriver.common.action_chains import ActionChains\n",
    "\n",
    "\n",
    "while True:\n",
    "    \n",
    "    num_elements = len(driver.find_elements(By.CLASS_NAME, 'nA6kb'))\n",
    "    \n",
    "    driver.find_element(By.TAG_NAME, 'body').send_keys(Keys.END)\n",
    "    \n",
    "    wait.until(lambda driver: len(driver.find_elements(By.CLASS_NAME, 'nA6kb')) > num_elements)\n",
    "    \n",
    "    if len(driver.find_elements(By.CLASS_NAME, 'nA6kb')) == num_elements:\n",
    "        break\n",
    "\n",
    "elements = driver.find_elements(By.CLASS_NAME, 'nA6kb')\n",
    "for elem in elements:\n",
    "    print(elem.text)"
   ]
  },
  {
   "cell_type": "code",
   "execution_count": 48,
   "id": "e405ac7a",
   "metadata": {},
   "outputs": [],
   "source": [
    "from selenium.webdriver.chrome.options import Options\n",
    "\n",
    "chrome_options = Options()\n",
    "chrome_options.add_argument(\"--disable-extensions\")\n",
    "chrome_options.add_argument(\"--disable-gpu\")\n",
    "chrome_options.add_argument(\"--headless\")\n",
    "chrome_options.add_argument(\"--no-sandbox\")\n",
    "chrome_options.add_argument(\"--disable-dev-shm-usage\")\n",
    "\n",
    "prefs = {\"profile.managed_default_content_settings.images\": 2}\n",
    "chrome_options.add_experimental_option(\"prefs\", prefs)\n",
    "\n",
    "driver = webdriver.Chrome(options=chrome_options)"
   ]
  },
  {
   "cell_type": "code",
   "execution_count": null,
   "id": "100fc3f2",
   "metadata": {},
   "outputs": [],
   "source": [
    "options = webdriver.ChromeOptions()\n",
    "options.add_argument('--disable-extensions')\n",
    "options.add_argument('--disable-infobars')\n",
    "options.add_argument('--mute-audio')\n",
    "options.add_argument('--disable-gpu')\n",
    "options.add_argument('--disable-dev-shm-usage')\n",
    "options.add_argument('--no-sandbox')\n",
    "options.add_argument('--disable-setuid-sandbox')\n",
    "options.add_argument('--disable-web-security')\n",
    "options.add_argument('--disable-features=VizDisplayCompositor')\n",
    "prefs = {\"profile.managed_default_content_settings.images\": 2}\n",
    "options.add_experimental_option(\"prefs\", prefs)\n",
    "\n",
    "driver = webdriver.Chrome(options=options)\n",
    "\n",
    "\n",
    "wait = WebDriverWait(driver, 120)\n",
    "\n",
    "\n",
    "driver.implicitly_wait(10)\n",
    "\n",
    "driver.get('https://www.swiggy.com/')\n",
    "\n",
    "while True:\n",
    "    \n",
    "    num_elements = len(driver.find_elements(By.CLASS_NAME, 'nA6kb'))\n",
    "    \n",
    "    driver.find_element(By.TAG_NAME, 'body').send_keys(Keys.END)\n",
    "    \n",
    "    try:\n",
    "        wait.until(EC.presence_of_element_located((By.CLASS_NAME, 'nA6kb')))\n",
    "    except TimeoutException:\n",
    "        break\n",
    "\n",
    "elements = driver.find_elements(By.CLASS_NAME, 'nA6kb')\n",
    "for elem in elements:\n",
    "    print(elem.text)"
   ]
  },
  {
   "cell_type": "code",
   "execution_count": null,
   "id": "3b8ac76e",
   "metadata": {},
   "outputs": [],
   "source": []
  }
 ],
 "metadata": {
  "kernelspec": {
   "display_name": "Python 3 (ipykernel)",
   "language": "python",
   "name": "python3"
  },
  "language_info": {
   "codemirror_mode": {
    "name": "ipython",
    "version": 3
   },
   "file_extension": ".py",
   "mimetype": "text/x-python",
   "name": "python",
   "nbconvert_exporter": "python",
   "pygments_lexer": "ipython3",
   "version": "3.9.5"
  }
 },
 "nbformat": 4,
 "nbformat_minor": 5
}
